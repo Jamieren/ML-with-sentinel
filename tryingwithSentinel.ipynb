{
  "nbformat": 4,
  "nbformat_minor": 0,
  "metadata": {
    "colab": {
      "provenance": [],
      "authorship_tag": "ABX9TyMFHwJx2yvSCqlT/z+ujrYX",
      "include_colab_link": true
    },
    "kernelspec": {
      "name": "python3",
      "display_name": "Python 3"
    },
    "language_info": {
      "name": "python"
    }
  },
  "cells": [
    {
      "cell_type": "markdown",
      "metadata": {
        "id": "view-in-github",
        "colab_type": "text"
      },
      "source": [
        "<a href=\"https://colab.research.google.com/github/Jamieren/ML-with-sentinel/blob/main/tryingwithSentinel.ipynb\" target=\"_parent\"><img src=\"https://colab.research.google.com/assets/colab-badge.svg\" alt=\"Open In Colab\"/></a>"
      ]
    },
    {
      "cell_type": "code",
      "execution_count": 1,
      "metadata": {
        "id": "tGhltYGe7jnh"
      },
      "outputs": [],
      "source": [
        "csv_data = \"\"\"TimeGenerated,Computer,EventID,EventType,LogonType,AccountName,IpAddress,Status\n",
        "2024-05-20T12:34:56.789Z,DESKTOP01,4624,Security,2,JohnDoe,192.168.1.100,Success\n",
        "2024-05-20T13:45:12.345Z,LAPTOP02,4624,Security,2,AliceSmith,10.0.0.5,Success\n",
        "2024-05-20T14:56:23.678Z,SERVER01,4624,Security,3,BobJohnson,172.16.0.10,Success\n",
        "2024-05-20T15:07:34.912Z,DESKTOP03,4625,Security,3,EveAnderson,192.168.0.20,Failure\n",
        "2024-05-20T16:18:45.123Z,DESKTOP04,4624,Security,2,CharlieBrown,192.168.1.50,Success\n",
        "2024-05-20T17:29:56.234Z,LAPTOP05,4624,Security,2,LucyWilliams,10.0.0.15,Success\n",
        "2024-05-20T18:40:12.345Z,DESKTOP06,4625,Security,3,DavidLee,192.168.1.30,Failure\n",
        "2024-05-20T19:51:23.456Z,SERVER02,4624,Security,2,SarahMiller,172.16.0.20,Success\n",
        "2024-05-20T20:02:34.567Z,DESKTOP07,4624,Security,2,MikeTaylor,192.168.1.70,Success\n",
        "2024-05-20T21:13:45.678Z,LAPTOP08,4624,Security,2,EmilyBrown,10.0.0.25,Success\"\"\"\n",
        "\n",
        "with open('user_sign_in_activities.csv', 'w') as f:\n",
        "    f.write(csv_data)\n"
      ]
    },
    {
      "cell_type": "code",
      "source": [
        "import pandas as pd\n",
        "import numpy as np\n",
        "import random\n",
        "from datetime import datetime, timedelta\n",
        "\n",
        "# Generate random timestamps within a range\n",
        "start_date = datetime(2024, 5, 1)\n",
        "end_date = datetime(2024, 5, 31)\n",
        "timestamps = [start_date + timedelta(seconds=random.randint(0, int((end_date - start_date).total_seconds()))) for _ in range(100)]\n",
        "\n",
        "# Generate random computer names\n",
        "computers = ['DESKTOP01', 'LAPTOP02', 'SERVER01', 'DESKTOP03', 'DESKTOP04', 'LAPTOP05', 'DESKTOP06', 'SERVER02', 'DESKTOP07', 'LAPTOP08']\n",
        "computer_names = [random.choice(computers) for _ in range(100)]\n",
        "\n",
        "# Generate random account names\n",
        "account_names = ['JohnDoe', 'AliceSmith', 'BobJohnson', 'EveAnderson', 'CharlieBrown', 'LucyWilliams', 'DavidLee', 'SarahMiller', 'MikeTaylor', 'EmilyBrown']\n",
        "account_names = [random.choice(account_names) for _ in range(100)]\n",
        "\n",
        "# Generate random event types\n",
        "event_types = ['Security', 'Login', 'Logout', 'Error']\n",
        "event_types = [random.choice(event_types) for _ in range(100)]\n",
        "\n",
        "# Generate random success/failure statuses\n",
        "statuses = ['Success', 'Failure']\n",
        "statuses = [random.choice(statuses) for _ in range(100)]\n",
        "\n",
        "# Create DataFrame\n",
        "data = pd.DataFrame({\n",
        "    'TimeGenerated': timestamps,\n",
        "    'Computer': computer_names,\n",
        "    'EventType': event_types,\n",
        "    'AccountName': account_names,\n",
        "    'Status': statuses\n",
        "})\n",
        "\n",
        "# Save DataFrame to CSV\n",
        "data.to_csv('user_sign_in_activities_100.csv', index=False)\n"
      ],
      "metadata": {
        "id": "VnWaxdzIAFTN"
      },
      "execution_count": 10,
      "outputs": []
    },
    {
      "cell_type": "code",
      "source": [
        "# Read the CSV file into a DataFrame\n",
        "data = pd.read_csv('user_sign_in_activities_100.csv')\n"
      ],
      "metadata": {
        "id": "OP6y_l4lA2TS"
      },
      "execution_count": 13,
      "outputs": []
    },
    {
      "cell_type": "code",
      "source": [
        "import matplotlib.pyplot as plt\n",
        "import seaborn as sns\n",
        "\n",
        "# Set the style for seaborn\n",
        "sns.set_style(\"whitegrid\")\n",
        "\n",
        "# Time Series Plot\n",
        "plt.figure(figsize=(10, 6))\n",
        "data['TimeGenerated'] = pd.to_datetime(data['TimeGenerated'])\n",
        "data.set_index('TimeGenerated').resample('D').size().plot(label='Daily Sign-in Activities', marker='o')\n",
        "plt.title('Number of Sign-in Activities Over Time')\n",
        "plt.xlabel('Date')\n",
        "plt.ylabel('Number of Sign-in Activities')\n",
        "plt.legend()\n",
        "plt.show()\n",
        "\n",
        "# Bar Plot\n",
        "plt.figure(figsize=(10, 6))\n",
        "sns.countplot(data=data, x='Computer', order=data['Computer'].value_counts().index)\n",
        "plt.title('Sign-in Activities by Computer')\n",
        "plt.xlabel('Computer')\n",
        "plt.ylabel('Number of Sign-in Activities')\n",
        "plt.xticks(rotation=45)\n",
        "plt.show()\n",
        "\n",
        "# Pie Chart\n",
        "plt.figure(figsize=(8, 8))\n",
        "data['EventType'].value_counts().plot(kind='pie', autopct='%1.1f%%')\n",
        "plt.title('Distribution of Sign-in Activities by Event Type')\n",
        "plt.ylabel('')\n",
        "plt.show()\n",
        "\n",
        "# Count Plot\n",
        "plt.figure(figsize=(8, 6))\n",
        "sns.countplot(data=data, x='Status')\n",
        "plt.title('Count of Sign-in Activities by Status')\n",
        "plt.xlabel('Status')\n",
        "plt.ylabel('Count')\n",
        "plt.show()\n"
      ],
      "metadata": {
        "id": "VzgtIgHgDMuT"
      },
      "execution_count": null,
      "outputs": []
    },
    {
      "cell_type": "code",
      "source": [
        "# to see what associate with the status\n",
        "\n",
        "import matplotlib.pyplot as plt\n",
        "import seaborn as sns\n",
        "\n",
        "# Set the style for seaborn\n",
        "sns.set_style(\"whitegrid\")\n",
        "\n",
        "# Bar Plot for Computer vs. Status\n",
        "plt.figure(figsize=(10, 6))\n",
        "sns.countplot(data=data, x='Computer', hue='Status')\n",
        "plt.title('Sign-in Activities by Computer and Status')\n",
        "plt.xlabel('Computer')\n",
        "plt.ylabel('Count')\n",
        "plt.xticks(rotation=45)\n",
        "plt.legend(title='Status')\n",
        "plt.show()\n",
        "\n",
        "# Bar Plot for EventType vs. Status\n",
        "plt.figure(figsize=(8, 6))\n",
        "sns.countplot(data=data, x='EventType', hue='Status')\n",
        "plt.title('Sign-in Activities by Event Type and Status')\n",
        "plt.xlabel('Event Type')\n",
        "plt.ylabel('Count')\n",
        "plt.xticks(rotation=45)\n",
        "plt.legend(title='Status')\n",
        "plt.show()\n",
        "\n",
        "# Bar Plot for AccountName vs. Status\n",
        "plt.figure(figsize=(12, 6))\n",
        "sns.countplot(data=data, x='AccountName', hue='Status', order=data['AccountName'].value_counts().index)\n",
        "plt.title('Sign-in Activities by Account Name and Status')\n",
        "plt.xlabel('Account Name')\n",
        "plt.ylabel('Count')\n",
        "plt.xticks(rotation=90)\n",
        "plt.legend(title='Status')\n",
        "plt.show()\n"
      ],
      "metadata": {
        "id": "nWCbvQWuDroa"
      },
      "execution_count": null,
      "outputs": []
    },
    {
      "cell_type": "code",
      "source": [
        "# trying random forst\n",
        "\n",
        "from sklearn.model_selection import train_test_split\n",
        "from sklearn.preprocessing import StandardScaler\n",
        "from sklearn.ensemble import RandomForestClassifier\n",
        "from sklearn.metrics import accuracy_score, classification_report\n",
        "\n",
        "# Read the CSV file into a DataFrame\n",
        "data = pd.read_csv('user_sign_in_activities_100.csv')\n",
        "\n",
        "data['TimeGenerated'] = pd.to_datetime(data['TimeGenerated'])\n",
        "X_train['TimeGenerated'] = pd.to_datetime(X_train['TimeGenerated'])\n",
        "X_test['TimeGenerated'] = pd.to_datetime(X_test['TimeGenerated'])\n",
        "\n",
        "X_train['TimeGenerated'] = X_train['TimeGenerated'].astype(int) / 10**9\n",
        "X_test['TimeGenerated'] = X_test['TimeGenerated'].astype(int) / 10**9\n",
        "\n",
        "# Encode categorical variables\n",
        "data_encoded = pd.get_dummies(data, columns=['Computer', 'EventType', 'AccountName'], drop_first=True)\n",
        "\n",
        "# Splitting the dataset into features and target variable\n",
        "X = data_encoded.drop(columns=['Status'])\n",
        "y = data_encoded['Status'].apply(lambda x: 1 if x == 'Success' else 0)\n",
        "\n",
        "# Splitting the dataset into training and testing sets\n",
        "X_train, X_test, y_train, y_test = train_test_split(X, y, test_size=0.2, random_state=42)\n",
        "\n",
        "# Convert the 'TimeGenerated' column to a numeric type\n",
        "X_train['TimeGenerated'] = pd.to_numeric(X_train['TimeGenerated'])\n",
        "X_test['TimeGenerated'] = pd.to_numeric(X_test['TimeGenerated'])\n",
        "\n",
        "# Normalizing the features\n",
        "scaler = StandardScaler()\n",
        "X_train_normalized = scaler.fit_transform(X_train)\n",
        "X_test_normalized = scaler.transform(X_test)\n",
        "\n",
        "# Model Training\n",
        "random_forest = RandomForestClassifier(random_state=42)\n",
        "random_forest.fit(X_train_normalized, y_train)\n",
        "\n",
        "# Model Testing\n",
        "y_pred_rf = random_forest.predict(X_test_normalized)\n",
        "\n",
        "# Evaluate accuracy\n",
        "accuracy_rf = accuracy_score(y_test, y_pred_rf)\n",
        "report_rf = classification_report(y_test, y_pred_rf)\n",
        "\n",
        "print(f\"Random Forest Accuracy: {accuracy_rf:.4f}\")\n",
        "print(\"Classification Report:\")\n",
        "print(report_rf)"
      ],
      "metadata": {
        "id": "prvbzOxFEKkG"
      },
      "execution_count": null,
      "outputs": []
    },
    {
      "cell_type": "code",
      "source": [
        "\n",
        "# Display Predictions\n",
        "predictions_df = X_test.copy()\n",
        "predictions_df['TrueStatus'] = y_test\n",
        "predictions_df['PredictedStatus'] = y_pred_rf\n",
        "predictions_df['PredictedStatus'] = predictions_df['PredictedStatus'].apply(lambda x: 'Success' if x == 1 else 'Failure')\n",
        "\n",
        "print(predictions_df.head(10))  # Display the first 10 predictions\n"
      ],
      "metadata": {
        "id": "VXv1ISxBGLg7"
      },
      "execution_count": null,
      "outputs": []
    },
    {
      "cell_type": "code",
      "source": [
        "# Save Predictions to CSV\n",
        "predictions_df = X_test.copy()\n",
        "predictions_df['TrueStatus'] = y_test\n",
        "predictions_df['PredictedStatus'] = y_pred_rf\n",
        "predictions_df['PredictedStatus'] = predictions_df['PredictedStatus'].apply(lambda x: 'Success' if x == 1 else 'Failure')\n",
        "predictions_df['TrueStatus'] = predictions_df['TrueStatus'].apply(lambda x: 'Success' if x == 1 else 'Failure')\n",
        "\n",
        "predictions_df.to_csv('predictions.csv', index=False)\n",
        "\n",
        "# Generate Plots\n",
        "# Plot for True vs. Predicted Statuses\n",
        "plt.figure(figsize=(10, 6))\n",
        "sns.countplot(data=predictions_df, x='TrueStatus', hue='PredictedStatus')\n",
        "plt.title('True vs. Predicted Statuses')\n",
        "plt.xlabel('True Status')\n",
        "plt.ylabel('Count')\n",
        "plt.legend(title='Predicted Status')\n",
        "plt.show()\n",
        "\n",
        "# Distribution of Predictions\n",
        "plt.figure(figsize=(10, 6))\n",
        "sns.countplot(data=predictions_df, x='PredictedStatus')\n",
        "plt.title('Distribution of Predicted Statuses')\n",
        "plt.xlabel('Predicted Status')\n",
        "plt.ylabel('Count')\n",
        "plt.show()\n",
        "\n",
        "# Distribution of True Statuses\n",
        "plt.figure(figsize=(10, 6))\n",
        "sns.countplot(data=predictions_df, x='TrueStatus')\n",
        "plt.title('Distribution of True Statuses')\n",
        "plt.xlabel('True Status')\n",
        "plt.ylabel('Count')\n",
        "plt.show()"
      ],
      "metadata": {
        "id": "WC74wu1YG-vI"
      },
      "execution_count": null,
      "outputs": []
    }
  ]
}